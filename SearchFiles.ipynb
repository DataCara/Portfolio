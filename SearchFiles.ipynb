{
 "cells": [
  {
   "cell_type": "code",
   "execution_count": 1,
   "metadata": {},
   "outputs": [],
   "source": [
    "import os\n",
    "import uuid"
   ]
  },
  {
   "cell_type": "code",
   "execution_count": 2,
   "metadata": {},
   "outputs": [],
   "source": [
    "contains = []\n",
    "id_ = uuid.uuid4()"
   ]
  },
  {
   "cell_type": "code",
   "execution_count": 3,
   "metadata": {},
   "outputs": [
    {
     "name": "stdout",
     "output_type": "stream",
     "text": [
      "['games_1.csv', 'games_2.csv', 'vgsales.csv']\n"
     ]
    },
    {
     "data": {
      "text/plain": [
       "''"
      ]
     },
     "execution_count": 3,
     "metadata": {},
     "output_type": "execute_result"
    }
   ],
   "source": [
    "def change_direct():\n",
    "    path = input(\"Path:\")\n",
    "    keyword = input(\"Keyword/Phrase: \")\n",
    "    search_folder(path, keyword)\n",
    "\n",
    "def search_folder(path, keyword):\n",
    "    global contains\n",
    "    dirs = os.listdir(path)\n",
    "    for directory in dirs:\n",
    "        if directory.endswith(\".csv\"):\n",
    "            try: \n",
    "                file_ = open(path + \"/\" + directory, \"r\")\n",
    "                if keyword in file_.read():\n",
    "                    contains.append(directory)\n",
    "                    saveFile = open(\"C:/Users/farad/Desktop/Experiment/\" + keyword + \" \" + str(id_) + \".csv\", \"a+\")\n",
    "                    saveFile.write(path + \"\\\\\" + directory + \"\\n\")\n",
    "                    saveFile.close()\n",
    "            except:\n",
    "                pass\n",
    "\n",
    "        elif \".\" not in directory.split(\" \"):\n",
    "            search_folder(path + \"/\" + directory, keyword)\n",
    "\n",
    "change_direct()\n",
    "print(contains)\n",
    "input (\"Press enter to exit...\")"
   ]
  },
  {
   "cell_type": "code",
   "execution_count": null,
   "metadata": {},
   "outputs": [],
   "source": []
  },
  {
   "cell_type": "code",
   "execution_count": null,
   "metadata": {},
   "outputs": [],
   "source": []
  }
 ],
 "metadata": {
  "kernelspec": {
   "display_name": "base",
   "language": "python",
   "name": "python3"
  },
  "language_info": {
   "codemirror_mode": {
    "name": "ipython",
    "version": 3
   },
   "file_extension": ".py",
   "mimetype": "text/x-python",
   "name": "python",
   "nbconvert_exporter": "python",
   "pygments_lexer": "ipython3",
   "version": "3.10.9"
  },
  "orig_nbformat": 4
 },
 "nbformat": 4,
 "nbformat_minor": 2
}
