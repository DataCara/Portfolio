{
 "cells": [
  {
   "cell_type": "code",
   "execution_count": 2,
   "metadata": {},
   "outputs": [],
   "source": [
    "import pandas as pd\n",
    "import numpy as np\n",
    "import os, shutil\n",
    "import csv\n",
    "import glob"
   ]
  },
  {
   "cell_type": "code",
   "execution_count": 3,
   "metadata": {},
   "outputs": [],
   "source": [
    "path = r\"C:/Users/farad/Desktop/Experiment\""
   ]
  },
  {
   "cell_type": "code",
   "execution_count": 4,
   "metadata": {},
   "outputs": [],
   "source": [
    "file_name = os.listdir(path)"
   ]
  },
  {
   "cell_type": "code",
   "execution_count": 5,
   "metadata": {},
   "outputs": [
    {
     "name": "stdout",
     "output_type": "stream",
     "text": [
      "['games_1.csv', 'games_2.csv', 'games_metadata.json', 'GlobConcatTest.ipynb', 'recommendations.csv', 'Test.ipynb', 'users.csv', 'vgsales.csv']\n"
     ]
    }
   ],
   "source": [
    "print (file_name)"
   ]
  },
  {
   "cell_type": "code",
   "execution_count": 6,
   "metadata": {},
   "outputs": [
    {
     "data": {
      "text/plain": [
       "['C:/Users/farad/Desktop/Experiment\\\\games_1.csv',\n",
       " 'C:/Users/farad/Desktop/Experiment\\\\games_2.csv']"
      ]
     },
     "execution_count": 6,
     "metadata": {},
     "output_type": "execute_result"
    }
   ],
   "source": [
    "glob.glob('C:/Users/farad/Desktop/Experiment/games*.csv')"
   ]
  },
  {
   "cell_type": "code",
   "execution_count": 7,
   "metadata": {},
   "outputs": [
    {
     "name": "stdout",
     "output_type": "stream",
     "text": [
      "Loading C:/Users/farad/Desktop/Experiment\\games_1.csv\n",
      "Loading C:/Users/farad/Desktop/Experiment\\games_2.csv\n"
     ]
    }
   ],
   "source": [
    "df1 = []\n",
    "for file in glob.glob('C:/Users/farad/Desktop/Experiment/games*.csv'):\n",
    "    print(f'Loading {file}')\n",
    "    new_df = pd.read_csv(file)\n",
    "    df1.append(new_df)"
   ]
  },
  {
   "cell_type": "code",
   "execution_count": 8,
   "metadata": {},
   "outputs": [],
   "source": [
    "df = pd.concat(df1)"
   ]
  },
  {
   "cell_type": "code",
   "execution_count": 9,
   "metadata": {},
   "outputs": [
    {
     "data": {
      "text/plain": [
       "(69424, 19)"
      ]
     },
     "execution_count": 9,
     "metadata": {},
     "output_type": "execute_result"
    }
   ],
   "source": [
    "df.shape"
   ]
  },
  {
   "cell_type": "code",
   "execution_count": 10,
   "metadata": {},
   "outputs": [
    {
     "name": "stderr",
     "output_type": "stream",
     "text": [
      "c:\\Users\\farad\\anaconda3\\lib\\site-packages\\IPython\\lib\\pretty.py:778: FutureWarning: In a future version, object-dtype columns with all-bool values will not be included in reductions with bool_only=True. Explicitly cast to bool dtype instead.\n",
      "  output = repr(obj)\n"
     ]
    },
    {
     "data": {
      "text/plain": [
       "<bound method NDFrame.head of          app_id                              title date_release   win    mac  \\\n",
       "0       10090.0         Call of Duty: World at War   2008-11-18  True  False   \n",
       "1       13500.0  Prince of Persia: Warrior Within™   2008-11-21  True  False   \n",
       "2       22364.0            BRINK: Agents of Change   2011-08-03  True  False   \n",
       "3      113020.0       Monaco: What's Yours Is Mine   2013-04-24  True   True   \n",
       "4      226560.0                 Escape Dead Island   2014-11-18  True  False   \n",
       "...         ...                                ...          ...   ...    ...   \n",
       "20575       NaN               The Astonishing Game          NaN   NaN    NaN   \n",
       "20576       NaN                           FootRock          NaN   NaN    NaN   \n",
       "20577       NaN                          EDEN STAR          NaN   NaN    NaN   \n",
       "20578       NaN                        Super Jagua          NaN   NaN    NaN   \n",
       "20579       NaN                         Sleengster          NaN   NaN    NaN   \n",
       "\n",
       "       linux         rating  positive_ratio  user_reviews  price_final  \\\n",
       "0      False  Very Positive            92.0       37039.0        19.99   \n",
       "1      False  Very Positive            84.0        2199.0         9.99   \n",
       "2      False       Positive            85.0          21.0         2.99   \n",
       "3       True  Very Positive            92.0        3722.0        14.99   \n",
       "4      False          Mixed            61.0         873.0        14.99   \n",
       "...      ...            ...             ...           ...          ...   \n",
       "20575    NaN            0.0             NaN           NaN          NaN   \n",
       "20576    NaN            0.0             NaN           NaN          NaN   \n",
       "20577    NaN            0.0             NaN           NaN          NaN   \n",
       "20578    NaN            0.0             NaN           NaN          NaN   \n",
       "20579    NaN            0.0             NaN           NaN          NaN   \n",
       "\n",
       "       price_original  discount steam_deck       id   released  added  \\\n",
       "0               19.99       0.0       True      NaN        NaN    NaN   \n",
       "1                9.99       0.0       True      NaN        NaN    NaN   \n",
       "2                2.99       0.0       True      NaN        NaN    NaN   \n",
       "3               14.99       0.0       True      NaN        NaN    NaN   \n",
       "4               14.99       0.0       True      NaN        NaN    NaN   \n",
       "...               ...       ...        ...      ...        ...    ...   \n",
       "20575             NaN       NaN        NaN  12023.0   2/2/2017   45.0   \n",
       "20576             NaN       NaN        NaN  11780.0  4/14/2017   45.0   \n",
       "20577             NaN       NaN        NaN  11697.0  1/30/2015   45.0   \n",
       "20578             NaN       NaN        NaN  11659.0  9/15/2016   45.0   \n",
       "20579             NaN       NaN        NaN  11360.0  12/2/2016   45.0   \n",
       "\n",
       "       playtime  reviews_count  ratings_count  \n",
       "0           NaN            NaN            NaN  \n",
       "1           NaN            NaN            NaN  \n",
       "2           NaN            NaN            NaN  \n",
       "3           NaN            NaN            NaN  \n",
       "4           NaN            NaN            NaN  \n",
       "...         ...            ...            ...  \n",
       "20575       1.0            0.0            0.0  \n",
       "20576       4.0            3.0            3.0  \n",
       "20577       2.0            2.0            2.0  \n",
       "20578       3.0            0.0            0.0  \n",
       "20579       0.0            3.0            3.0  \n",
       "\n",
       "[69424 rows x 19 columns]>"
      ]
     },
     "execution_count": 10,
     "metadata": {},
     "output_type": "execute_result"
    }
   ],
   "source": [
    "df.head"
   ]
  },
  {
   "cell_type": "code",
   "execution_count": null,
   "metadata": {},
   "outputs": [],
   "source": []
  },
  {
   "cell_type": "code",
   "execution_count": null,
   "metadata": {},
   "outputs": [],
   "source": []
  }
 ],
 "metadata": {
  "kernelspec": {
   "display_name": "base",
   "language": "python",
   "name": "python3"
  },
  "language_info": {
   "codemirror_mode": {
    "name": "ipython",
    "version": 3
   },
   "file_extension": ".py",
   "mimetype": "text/x-python",
   "name": "python",
   "nbconvert_exporter": "python",
   "pygments_lexer": "ipython3",
   "version": "3.10.9"
  },
  "orig_nbformat": 4
 },
 "nbformat": 4,
 "nbformat_minor": 2
}
